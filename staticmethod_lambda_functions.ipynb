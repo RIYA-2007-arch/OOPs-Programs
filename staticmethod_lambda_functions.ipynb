{
  "nbformat": 4,
  "nbformat_minor": 0,
  "metadata": {
    "colab": {
      "provenance": [],
      "authorship_tag": "ABX9TyNqdc6koDhInpojRuRsphgM",
      "include_colab_link": true
    },
    "kernelspec": {
      "name": "python3",
      "display_name": "Python 3"
    },
    "language_info": {
      "name": "python"
    }
  },
  "cells": [
    {
      "cell_type": "markdown",
      "metadata": {
        "id": "view-in-github",
        "colab_type": "text"
      },
      "source": [
        "<a href=\"https://colab.research.google.com/github/RIYA-2007-arch/OOPs-Programs/blob/main/staticmethod_lambda_functions.ipynb\" target=\"_parent\"><img src=\"https://colab.research.google.com/assets/colab-badge.svg\" alt=\"Open In Colab\"/></a>"
      ]
    },
    {
      "cell_type": "code",
      "execution_count": null,
      "metadata": {
        "colab": {
          "base_uri": "https://localhost:8080/"
        },
        "id": "C7PAB9EBuW6c",
        "outputId": "a7758052-a91a-42d4-f461-ca0991960155"
      },
      "outputs": [
        {
          "output_type": "stream",
          "name": "stdout",
          "text": [
            "Hello Riya\n"
          ]
        }
      ],
      "source": [
        "class A:\n",
        "    name='Riya'\n",
        "    @staticmethod\n",
        "    def disp(msg):\n",
        "        print(msg,A.name)\n",
        "A.disp('Hello')"
      ]
    },
    {
      "cell_type": "code",
      "source": [
        "lambda arguments : expression\n",
        "cube = lambda x:x**3\n",
        "print(cube(3))\n",
        "print(cube(4))"
      ],
      "metadata": {
        "colab": {
          "base_uri": "https://localhost:8080/"
        },
        "id": "51Zyu1zVxb14",
        "outputId": "15477a93-984a-40c1-a41c-f1a1ab5bce1f"
      },
      "execution_count": null,
      "outputs": [
        {
          "output_type": "stream",
          "name": "stdout",
          "text": [
            "27\n",
            "64\n"
          ]
        }
      ]
    },
    {
      "cell_type": "code",
      "source": [
        "list = [1,2,3,4]\n",
        "A = tuple(map(lambda x:x**2,lst))\n",
        "print (A)"
      ],
      "metadata": {
        "colab": {
          "base_uri": "https://localhost:8080/"
        },
        "id": "HcvIqxoNyZwB",
        "outputId": "6460ee79-43aa-4cbe-ac16-d541c01100fb"
      },
      "execution_count": null,
      "outputs": [
        {
          "output_type": "stream",
          "name": "stdout",
          "text": [
            "(1, 4, 9, 16)\n"
          ]
        }
      ]
    },
    {
      "cell_type": "code",
      "source": [
        "list = [1,2,3,4,5,6,7,8]\n",
        "A = tuple(filter(lambda x:x%2,lst))\n",
        "print (A)"
      ],
      "metadata": {
        "colab": {
          "base_uri": "https://localhost:8080/"
        },
        "id": "9jBpOu-l0-pN",
        "outputId": "19bc7db7-ad1e-4310-de62-f736cded3171"
      },
      "execution_count": null,
      "outputs": [
        {
          "output_type": "stream",
          "name": "stdout",
          "text": [
            "(1, 3)\n"
          ]
        }
      ]
    },
    {
      "cell_type": "code",
      "source": [
        "from functools import reduce\n",
        "mylst = [1,2,3,4]\n",
        "a = reduce(lambda x,y:x+y,mylst)\n",
        "print (a)"
      ],
      "metadata": {
        "colab": {
          "base_uri": "https://localhost:8080/"
        },
        "id": "nqOcGO1_0-zc",
        "outputId": "8969fae4-7d83-4877-aac6-f69ff46116ea"
      },
      "execution_count": null,
      "outputs": [
        {
          "output_type": "stream",
          "name": "stdout",
          "text": [
            "10\n"
          ]
        }
      ]
    }
  ]
}