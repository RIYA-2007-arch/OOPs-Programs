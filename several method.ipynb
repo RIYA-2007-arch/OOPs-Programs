{
  "nbformat": 4,
  "nbformat_minor": 0,
  "metadata": {
    "colab": {
      "provenance": [],
      "authorship_tag": "ABX9TyNkBACtGOHDKzwYC92cWUVB",
      "include_colab_link": true
    },
    "kernelspec": {
      "name": "python3",
      "display_name": "Python 3"
    },
    "language_info": {
      "name": "python"
    }
  },
  "cells": [
    {
      "cell_type": "markdown",
      "metadata": {
        "id": "view-in-github",
        "colab_type": "text"
      },
      "source": [
        "<a href=\"https://colab.research.google.com/github/RIYA-2007-arch/OOPs-Programs/blob/main/several%20method.ipynb\" target=\"_parent\"><img src=\"https://colab.research.google.com/assets/colab-badge.svg\" alt=\"Open In Colab\"/></a>"
      ]
    },
    {
      "cell_type": "code",
      "execution_count": null,
      "metadata": {
        "colab": {
          "base_uri": "https://localhost:8080/"
        },
        "id": "oeSY_5aszrgs",
        "outputId": "a3968f20-be88-4b4c-d44c-ff300781cc5d"
      },
      "outputs": [
        {
          "output_type": "stream",
          "name": "stdout",
          "text": [
            "90\n",
            "-30\n",
            "600\n",
            "1.3333333333333333\n"
          ]
        }
      ],
      "source": [
        "class A:\n",
        " a= 20\n",
        " b= 30\n",
        " def Add(self,a,b):\n",
        "      print(a+b)\n",
        " def sub(self,a,b):\n",
        "      print(a-b)\n",
        " def multi(self,a,b):\n",
        "      print(a*b)\n",
        " def division(self,a,b):\n",
        "      print(a/b)\n",
        "obj1= A()\n",
        "obj1.Add(30,60)\n",
        "obj1.sub(10,40)\n",
        "obj1.multi(20,30)\n",
        "obj1.division(40,30)"
      ]
    }
  ]
}