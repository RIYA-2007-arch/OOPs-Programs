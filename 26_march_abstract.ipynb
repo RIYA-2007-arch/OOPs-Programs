{
  "nbformat": 4,
  "nbformat_minor": 0,
  "metadata": {
    "colab": {
      "provenance": [],
      "authorship_tag": "ABX9TyNklaVgDiXzbFQ9A9VZ93HJ",
      "include_colab_link": true
    },
    "kernelspec": {
      "name": "python3",
      "display_name": "Python 3"
    },
    "language_info": {
      "name": "python"
    }
  },
  "cells": [
    {
      "cell_type": "markdown",
      "metadata": {
        "id": "view-in-github",
        "colab_type": "text"
      },
      "source": [
        "<a href=\"https://colab.research.google.com/github/RIYA-2007-arch/OOPs-Programs/blob/main/26_march_abstract.ipynb\" target=\"_parent\"><img src=\"https://colab.research.google.com/assets/colab-badge.svg\" alt=\"Open In Colab\"/></a>"
      ]
    },
    {
      "cell_type": "code",
      "execution_count": null,
      "metadata": {
        "colab": {
          "base_uri": "https://localhost:8080/"
        },
        "id": "CGnfepQh5WsG",
        "outputId": "87b50ec6-ac2b-4faf-d228-800a09fd8367"
      },
      "outputs": [
        {
          "output_type": "stream",
          "name": "stdout",
          "text": [
            "hello\n"
          ]
        }
      ],
      "source": [
        "from abc import ABC,abstractmethod\n",
        "class A(ABC):\n",
        "    @abstractmethod\n",
        "    def show (self):\n",
        "        pass\n",
        "class B(A):\n",
        "    def show(self):\n",
        "        print(\"hello\")\n",
        "b1 = B()\n",
        "b1.show()"
      ]
    },
    {
      "cell_type": "code",
      "source": [
        "class shape(ABC):\n",
        "    @abstractmethod\n",
        "    def area(self):\n",
        "        pass\n",
        "class Rectangle(shape):\n",
        "    def area(self):\n",
        "        l=10\n",
        "        b=20\n",
        "        print(l*b)\n",
        "r1 = Rectangle()\n",
        "r1.area()"
      ],
      "metadata": {
        "colab": {
          "base_uri": "https://localhost:8080/"
        },
        "id": "VBV6L9pR7kA7",
        "outputId": "4cd2d41d-31bd-4792-a329-439fc3a69874"
      },
      "execution_count": null,
      "outputs": [
        {
          "output_type": "stream",
          "name": "stdout",
          "text": [
            "200\n"
          ]
        }
      ]
    },
    {
      "cell_type": "markdown",
      "source": [],
      "metadata": {
        "id": "wi9SXlrUEzZ5"
      }
    },
    {
      "cell_type": "code",
      "source": [
        "class shape(ABC):\n",
        "    @property\n",
        "    def area(self):\n",
        "        pass\n",
        "class Rectangle(shape):\n",
        "    @property\n",
        "    def area(self):\n",
        "        l=14\n",
        "        b=18\n",
        "        return(l*b)\n",
        "r1 = Rectangle()\n",
        "print(r1.area)"
      ],
      "metadata": {
        "colab": {
          "base_uri": "https://localhost:8080/"
        },
        "id": "-kRTikOo-DZF",
        "outputId": "e3bd776d-a098-4654-da06-52cd8c04cbe2"
      },
      "execution_count": null,
      "outputs": [
        {
          "output_type": "stream",
          "name": "stdout",
          "text": [
            "252\n"
          ]
        }
      ]
    }
  ]
}