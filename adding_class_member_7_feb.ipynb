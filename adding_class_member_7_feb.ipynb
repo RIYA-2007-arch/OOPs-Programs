{
  "nbformat": 4,
  "nbformat_minor": 0,
  "metadata": {
    "colab": {
      "provenance": [],
      "authorship_tag": "ABX9TyO+e0KDNAtSOnsFpistDSEE",
      "include_colab_link": true
    },
    "kernelspec": {
      "name": "python3",
      "display_name": "Python 3"
    },
    "language_info": {
      "name": "python"
    }
  },
  "cells": [
    {
      "cell_type": "markdown",
      "metadata": {
        "id": "view-in-github",
        "colab_type": "text"
      },
      "source": [
        "<a href=\"https://colab.research.google.com/github/RIYA-2007-arch/OOPs-Programs/blob/main/adding_class_member_7_feb.ipynb\" target=\"_parent\"><img src=\"https://colab.research.google.com/assets/colab-badge.svg\" alt=\"Open In Colab\"/></a>"
      ]
    },
    {
      "cell_type": "code",
      "execution_count": null,
      "metadata": {
        "colab": {
          "base_uri": "https://localhost:8080/"
        },
        "id": "uyLteaY9qPTZ",
        "outputId": "4ac1c8e7-704c-4c14-b3ab-422e95f6b414"
      },
      "outputs": [
        {
          "output_type": "stream",
          "name": "stdout",
          "text": [
            "Santosh\n"
          ]
        }
      ],
      "source": [
        "class A:\n",
        "\n",
        " name = \"Santosh\"\n",
        "obj1 = A()\n",
        "print(obj1.name)"
      ]
    },
    {
      "cell_type": "code",
      "source": [
        "class A:\n",
        " def Add(self,a,b):\n",
        "  print(a+b)\n",
        "obj1 = A()\n",
        "obj1.Add(10,20)\n",
        "obj1.Add(30,40)"
      ],
      "metadata": {
        "colab": {
          "base_uri": "https://localhost:8080/"
        },
        "id": "ry6uA3L8tcsb",
        "outputId": "5102c1a3-e031-4913-887f-bbedd447e599"
      },
      "execution_count": null,
      "outputs": [
        {
          "output_type": "stream",
          "name": "stdout",
          "text": [
            "30\n",
            "70\n"
          ]
        }
      ]
    },
    {
      "cell_type": "code",
      "source": [
        " a=20\n",
        " b=30\n",
        " def Add(self,a,b):\n",
        "   print(a)\n",
        "   print(b)\n",
        "   print(a+b)\n",
        "obj1.Add(30,40)"
      ],
      "metadata": {
        "colab": {
          "base_uri": "https://localhost:8080/"
        },
        "id": "o28iDBODvjZB",
        "outputId": "c1cbe953-ec5f-4a2d-bbb1-457941c80d93"
      },
      "execution_count": null,
      "outputs": [
        {
          "output_type": "stream",
          "name": "stdout",
          "text": [
            "70\n"
          ]
        }
      ]
    },
    {
      "cell_type": "code",
      "source": [],
      "metadata": {
        "id": "88XYrE4fxlvs"
      },
      "execution_count": null,
      "outputs": []
    },
    {
      "cell_type": "code",
      "source": [
        "a=20\n",
        "b=30\n",
        "def Add(self,a,b):\n",
        "    print(a)\n",
        "    print(b)\n",
        "    print(a+b)\n",
        "    print(self.a+self.b)\n",
        "obj1.Add(30,40)"
      ],
      "metadata": {
        "colab": {
          "base_uri": "https://localhost:8080/"
        },
        "id": "-T1vfX-HwXwP",
        "outputId": "37bd8089-eb33-4470-9d8f-289a1b116d6f"
      },
      "execution_count": null,
      "outputs": [
        {
          "output_type": "stream",
          "name": "stdout",
          "text": [
            "70\n"
          ]
        }
      ]
    },
    {
      "cell_type": "code",
      "source": [
        "class C:\n",
        "  a=20\n",
        "  b=30\n",
        "  def Add(self,a):\n",
        "      print(self.a)\n",
        "      print(a)\n",
        "Obj1=C()\n",
        "Obj1.Add(20)"
      ],
      "metadata": {
        "colab": {
          "base_uri": "https://localhost:8080/"
        },
        "id": "HtzuyGMhyKD3",
        "outputId": "3074be7e-5bf8-4053-e7fb-dbc0d9e5a62a"
      },
      "execution_count": null,
      "outputs": [
        {
          "output_type": "stream",
          "name": "stdout",
          "text": [
            "20\n",
            "20\n"
          ]
        }
      ]
    },
    {
      "cell_type": "code",
      "source": [],
      "metadata": {
        "id": "IlYt7tpCz1Nn"
      },
      "execution_count": null,
      "outputs": []
    }
  ]
}